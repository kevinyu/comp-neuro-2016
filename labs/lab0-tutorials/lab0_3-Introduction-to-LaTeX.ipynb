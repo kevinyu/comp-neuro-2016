{
 "cells": [
  {
   "cell_type": "markdown",
   "metadata": {},
   "source": [
    "<img src=\"./img/vs265header.svg\"/>\n",
    "<h1 align=\"center\"> Lab 0 - Tutorials </h1>\n",
    "<h2 align=\"center\"> Part 3 - $\\LaTeX$ </h2>"
   ]
  },
  {
   "cell_type": "markdown",
   "metadata": {},
   "source": [
    "In addition to providing an easy way to run code in multiple environments with integrated media and text, Jupyter notebooks support the typesetting engine $\\LaTeX$ (pronounced LAH-tech, usually). $\\LaTeX$ is the weapon of choice for typesetting everything from papers on arXiV to entire textbooks!\n",
    "\n",
    "For this class, we'll be using only a tiny fraction of the power of $\\LaTeX$ -- the shiny tip of massive typesetting iceberg. Lest your ship of learning crash on this iceberg, we've collected almost all of the commands and incantations you need to succeed in this course."
   ]
  },
  {
   "cell_type": "markdown",
   "metadata": {},
   "source": [
    "## Contents\n",
    "\n",
    "* [Declaring $\\LaTeX$](#Declaring-$\\LaTeX$)\n",
    "* [Basic Equation Formatting](#Basic-Equation-Formatting)\n",
    "* [Greek Letters and Various Symbols](#Greek-Letters-and-Various-Symbols)\n",
    "* [Fractions and Derivatives](#Fractions-and-Derivatives)\n",
    "* [Sums and Integrals](#Sums-and-Integrals)\n",
    "* [Multiple Lines and Alignment](#Multiple-Lines-and-Alignment)"
   ]
  },
  {
   "cell_type": "markdown",
   "metadata": {},
   "source": [
    "### Declaring $\\LaTeX$"
   ]
  },
  {
   "cell_type": "markdown",
   "metadata": {},
   "source": [
    "To specify that a chunk of text should be rendered with $\\LaTeX$, you must enclose it in dollar signs (`$`), like so: `$chunk of text$`. The result should be: $chunk of text$. \n",
    "\n",
    "Note that $\\LaTeX$ doesn't care about spaces, so if you want to have spaces, you have to add them in yourself, using backslashes: `$text\\ with\\ spaces$` for $text\\ with\\ spaces$.\n",
    "\n",
    "Also, if you see any interesting $\\LaTeX$ in a Markdown cell, you can double click the cell to check out the formatting. The same applies for cool Markdown syntax, like the table of contents above."
   ]
  },
  {
   "cell_type": "markdown",
   "metadata": {},
   "source": [
    "### Basic Equation Formatting"
   ]
  },
  {
   "cell_type": "markdown",
   "metadata": {},
   "source": [
    " Let's start with an old friend, the equation for a line, `y = mx + b`. We can simply type `$y = mx + b$` to get:\n",
    " \n",
    " $y = mx + b$\n",
    " \n",
    " Equations often use superscripts and subscripts. You can add single-character super- and subscripts using `^` and `_`, respectively:\n",
    " \n",
    " $y_1 = m_1x_1^2 + b_1$\n",
    " \n",
    " If you want to put multiple characters in a super- or sub_script, just enclose them with curly brackets: `^{your ad here}`.\n",
    "\n",
    "$This^{works^{pretty^{well}}}_{but_{is_{hard_{to_{read}}}}}$!"
   ]
  },
  {
   "cell_type": "markdown",
   "metadata": {},
   "source": [
    "### Greek Letters and Various Symbols"
   ]
  },
  {
   "cell_type": "markdown",
   "metadata": {},
   "source": [
    "A nice reference point for $\\LaTeX$'s non-Latin characters, including Greek letters, like $\\alpha$ and $\\beta$, and fancy mathematical symbols like $\\therefore$ (pronounced \"therefore\" or \"ergo\") and $\\forall$ (pronounced \"for all\"), is this [cheat sheet](http://web.ift.uib.no/Teori/KURS/WRK/TeX/symALL.html).\n",
    "\n",
    "Greek letters are so common that they have a special system: to produce upper and lower case versions of a Greek letter, you simply type '$\\Letter$' or '$\\letter$', where `letter` is the letter's name, e.g. `\\Gamma` or `\\gamma` for $\\Gamma$ or $\\gamma$."
   ]
  },
  {
   "cell_type": "markdown",
   "metadata": {},
   "source": [
    "### Fractions and Derivatives\n",
    "\n",
    "To produce a fraction, type `$\\frac{numerator}{denominator}$` to get $\\frac{numerator}{denominator}$.\n",
    "\n",
    "You can use the same command to produce derivative symbols, in combination with the `partial` command:\n",
    "\n",
    "$\\frac{\\partial x}{\\partial t}$\n",
    "\n",
    "Since most of our derivatives are partial, that's the preferred notation in this course, but if you're partial (ha) to a different notation, double click this cell to see how to make any of the following: $\\dot{x}$ or $x'$ or $\\frac{dx}{dt}$"
   ]
  },
  {
   "cell_type": "markdown",
   "metadata": {},
   "source": [
    "### Sums and Integrals\n",
    "\n",
    "Both sums and fancy sums (akak integrals) use a similar syntax: `$\\sum_{start}^{finish}{stuff}$` and `$\\int_{start}^{finish}{stuff}$` for \n",
    "\n",
    "$\\sum_{start}^{finish}{stuff}$ and $\\int_{start}^{finish}{stuff}$.\n",
    "\n",
    "You may have noticed that the expressions are starting to get crowded. If you give $\\LaTeX$ a bit more space, it can do a better job of displaying the math. You can do this by using double dollar signs (`$$`) instead of single dollar signs, which tells $\\LaTeX$ to render the math on a new line: `$$\\sum_{start}^{finish}{stuff}$$` gives you:\n",
    "\n",
    "$$\\sum_{start}^{finish}{stuff}$$\n",
    "\n",
    "whether you put it on a new line or not! To make the raw text easier to read, we usually put the text on a different line anyway."
   ]
  },
  {
   "cell_type": "markdown",
   "metadata": {},
   "source": [
    "### Multiple Lines and Alignment\n",
    "\n",
    "Double-dollars are also good for setting off a block of equations, like:\n",
    "\n",
    "$$\n",
    "    f'\\ =\\ f \\\\\n",
    "    \\therefore\\ \\ f \\ =\\ \\mathrm{e}^x\\ + C\n",
    "$$\n",
    "\n",
    "If want to make this block prettier, we have specify an `align` segment: we wrap the text in `\\begin{align}` and `end{align}`. We also have to specify, using ampersands (`&`), which points we wish to line up, usually the equals signs:\n",
    "\n",
    "$$\n",
    "\\begin{align}\n",
    "    f'\\ &=\\ f \\\\\n",
    "    \\therefore\\ \\ f \\ &=\\ \\mathrm{e}^x\\ + C\n",
    "\\end{align}\n",
    "$$"
   ]
  },
  {
   "cell_type": "markdown",
   "metadata": {},
   "source": [
    "### Vectors and Matrices\n",
    "\n",
    "Vectors are often indicated by the addition of an arrow over a lowercase letter : $\\vec{x}$, or `$\\vec{x}$`. At other times, they are indicated with **boldface**, as in $\\mathbf{x}$, or `$\\mathbf{x}$`. Some people are paranoid enough to wear both belts and suspenders. They frequently indicate their vectors as $\\vec{\\mathbf{x}}$ (`$\\vec{\\mathbf{x}}$`) or $\\mathbf{\\vec{x}}$ (`$\\mathbf{\\vec{x}}$`).\n",
    "\n",
    "Matrices are usually represented with boldface capital letters: $\\mathbf{M}$. When this is more of a burden than an aid, they can be represented with simply captial letters: $M$.\n",
    "\n",
    "When we multiply matrices with matrices or vectors, we usually use the convention adopted for multiplication of scalar value: we simply write the symbols next to each other, as in $\\mathbf{M}\\vec{x}$ or $A\\vec{b}$ (the fancy-pants name for this is juxtaposition). Note the alignment mismatch due to the `\\vec` arrow -- this is a peculiarity of setting $\\LaTeX$ in a Jupyter notebook, and so boldface is preffered for indicating vectors. \n",
    "\n",
    "If we wish to be explicit about vector multiplication, we use the symbol $\\cdot$ (`$\\cdot$`), as in $x\\cdot x^T$. Transposes can be indicated with a superscripted $\\intercal$ (`$intercal$`) or a superscripted T: $^T$"
   ]
  }
 ],
 "metadata": {
  "kernelspec": {
   "display_name": "Python 3",
   "language": "python",
   "name": "python3"
  },
  "language_info": {
   "codemirror_mode": {
    "name": "ipython",
    "version": 3
   },
   "file_extension": ".py",
   "mimetype": "text/x-python",
   "name": "python",
   "nbconvert_exporter": "python",
   "pygments_lexer": "ipython3",
   "version": "3.5.2"
  }
 },
 "nbformat": 4,
 "nbformat_minor": 0
}
